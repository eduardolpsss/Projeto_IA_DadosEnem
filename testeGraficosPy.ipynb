{
  "cells": [
    {
      "cell_type": "markdown",
      "metadata": {
        "colab_type": "text",
        "id": "view-in-github"
      },
      "source": [
        "<a href=\"https://colab.research.google.com/github/kingofrats04/Projeto_IA_DadosEnem/blob/main/testeGraficosPy.ipynb\" target=\"_parent\"><img src=\"https://colab.research.google.com/assets/colab-badge.svg\" alt=\"Open In Colab\"/></a>"
      ]
    },
    {
      "cell_type": "code",
      "execution_count": 2,
      "metadata": {
        "colab": {
          "base_uri": "https://localhost:8080/",
          "height": 379
        },
        "id": "SJWv8CThLYfj",
        "outputId": "212af888-6dfa-49fe-8d5b-e3409ef3b817"
      },
      "outputs": [
        {
          "ename": "ModuleNotFoundError",
          "evalue": "No module named 'matplotlib'",
          "output_type": "error",
          "traceback": [
            "\u001b[1;31m---------------------------------------------------------------------------\u001b[0m",
            "\u001b[1;31mModuleNotFoundError\u001b[0m                       Traceback (most recent call last)",
            "Cell \u001b[1;32mIn [2], line 1\u001b[0m\n\u001b[1;32m----> 1\u001b[0m \u001b[39mfrom\u001b[39;00m \u001b[39mmatplotlib\u001b[39;00m \u001b[39mimport\u001b[39;00m pyplot \u001b[39mas\u001b[39;00m plt\n\u001b[0;32m      2\u001b[0m \u001b[39mimport\u001b[39;00m \u001b[39mnumpy\u001b[39;00m \u001b[39mas\u001b[39;00m \u001b[39mnp\u001b[39;00m\n\u001b[0;32m      3\u001b[0m \u001b[39mimport\u001b[39;00m \u001b[39mpandas\u001b[39;00m \u001b[39mas\u001b[39;00m \u001b[39mpd\u001b[39;00m\n",
            "\u001b[1;31mModuleNotFoundError\u001b[0m: No module named 'matplotlib'"
          ]
        }
      ],
      "source": [
        "from matplotlib import pyplot as plt\n",
        "import numpy as np\n",
        "import pandas as pd\n",
        "\n",
        "# Importar dados da pandemia\n",
        "# Criar graficos para visualizar os padroes durante a pandemia\n",
        "\n",
        "# Importar planilha do Excel\n",
        "# planilha = pd.read_excel(\"/sample_data/california_housing_test.csv\", None)\n",
        "\n",
        "planilha2020 = pd.read_csv('/content/sample_data/MICRODADOS_ENEM_2020_DF.csv', sep=';' , encoding='latin-1')\n",
        "planilha2021 = pd.read_csv(\"/content/sample_data/MICRODADOS_ENEM_2021_DF.csv\", sep=';' , encoding='latin-1')\n",
        "\n",
        "# Printar coluna índice\n",
        "print(planilha2020.Índice.max())\n",
        "print(planilha2021.Índice.max())\n",
        "\n",
        "num1 = planilha2020.Índice.max()\n",
        "num2 = planilha2021.Índice.max()\n",
        "\n",
        "# Printando gráfico de barras\n",
        "x = ['Planilha 2020', 'Planilha 2021']\n",
        "totalAlunos = num1, num2\n",
        "plt.style.use('seaborn')\n",
        "plt.bar(x, totalAlunos, width=[0.2, 0.2], align='center', color=['red', 'white'], edgecolor='black', linewidth=\"2\") \n",
        "plt.xlabel(\"Planilhas\")\n",
        "plt.ylabel(\"Total alunos\")"
      ]
    },
    {
      "cell_type": "markdown",
      "metadata": {
        "id": "mfqpLkCqjuCY"
      },
      "source": []
    },
    {
      "cell_type": "markdown",
      "metadata": {
        "id": "G7vrreGigVKW"
      },
      "source": []
    }
  ],
  "metadata": {
    "colab": {
      "collapsed_sections": [],
      "include_colab_link": true,
      "provenance": []
    },
    "kernelspec": {
      "display_name": "Python 3.10.7 64-bit",
      "language": "python",
      "name": "python3"
    },
    "language_info": {
      "codemirror_mode": {
        "name": "ipython",
        "version": 3
      },
      "file_extension": ".py",
      "mimetype": "text/x-python",
      "name": "python",
      "nbconvert_exporter": "python",
      "pygments_lexer": "ipython3",
      "version": "3.10.7"
    },
    "vscode": {
      "interpreter": {
        "hash": "26de051ba29f2982a8de78e945f0abaf191376122a1563185a90213a26c5da77"
      }
    }
  },
  "nbformat": 4,
  "nbformat_minor": 0
}
