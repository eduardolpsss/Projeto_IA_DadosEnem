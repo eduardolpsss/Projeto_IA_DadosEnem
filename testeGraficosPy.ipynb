{
  "nbformat": 4,
  "nbformat_minor": 0,
  "metadata": {
    "colab": {
      "provenance": [],
      "collapsed_sections": [],
      "include_colab_link": true
    },
    "kernelspec": {
      "name": "python3",
      "display_name": "Python 3"
    },
    "language_info": {
      "name": "python"
    }
  },
  "cells": [
    {
      "cell_type": "markdown",
      "metadata": {
        "id": "view-in-github",
        "colab_type": "text"
      },
      "source": [
        "<a href=\"https://colab.research.google.com/github/kingofrats04/Projeto_IA_DadosEnem/blob/main/testeGraficosPy.ipynb\" target=\"_parent\"><img src=\"https://colab.research.google.com/assets/colab-badge.svg\" alt=\"Open In Colab\"/></a>"
      ]
    },
    {
      "cell_type": "code",
      "source": [
        "from matplotlib import pyplot as plt\n",
        "import numpy as np\n",
        "import pandas as pd\n",
        "\n",
        "# Importar dados da pandemia\n",
        "# Criar graficos para visualizar os padroes durante a pandemia\n",
        "\n",
        "# Importar planilha do Excel\n",
        "# planilha = pd.read_excel(\"/sample_data/california_housing_test.csv\", None)\n",
        "\n",
        "planilha2020 = pd.read_csv('/content/sample_data/MICRODADOS_ENEM_2020_DF.csv', sep=';' , encoding='latin-1')\n",
        "planilha2021 = pd.read_csv(\"/content/sample_data/MICRODADOS_ENEM_2021_DF.csv\", sep=';' , encoding='latin-1')\n",
        "\n",
        "# Printar coluna índice\n",
        "print(planilha2020.Índice.max())\n",
        "print(planilha2021.Índice.max())\n",
        "\n",
        "num1 = planilha2020.Índice.max()\n",
        "num2 = planilha2021.Índice.max()\n",
        "\n",
        "# Printando gráfico de barras\n",
        "x = ['Planilha 2020', 'Planilha 2021']\n",
        "totalAlunos = num1, num2\n",
        "plt.style.use('seaborn')\n",
        "plt.bar(x, totalAlunos, width=[0.2, 0.2], align='center', color=['red', 'white'], edgecolor='black', linewidth=\"2\") \n",
        "plt.xlabel(\"Planilhas\")\n",
        "plt.ylabel(\"Total alunos\")"
      ],
      "metadata": {
        "colab": {
          "base_uri": "https://localhost:8080/",
          "height": 438
        },
        "id": "SJWv8CThLYfj",
        "outputId": "bddb4b04-5bd9-405e-876d-f10f432a495b"
      },
      "execution_count": 119,
      "outputs": [
        {
          "output_type": "stream",
          "name": "stdout",
          "text": [
            "116932\n",
            "67501\n"
          ]
        },
        {
          "output_type": "execute_result",
          "data": {
            "text/plain": [
              "Text(0, 0.5, 'Total alunos')"
            ]
          },
          "metadata": {},
          "execution_count": 119
        },
        {
          "output_type": "display_data",
          "data": {
            "text/plain": [
              "<Figure size 576x396 with 1 Axes>"
            ],
            "image/png": "[encoded data removed]"
          },
          "metadata": {}
        }
      ]
    },
    {
      "cell_type": "markdown",
      "source": [
        "# Nova seção"
      ],
      "metadata": {
        "id": "GmkyVS-yr19P"
      }
    },
    {
      "cell_type": "code",
      "source": [],
      "metadata": {
        "id": "VmEnmFhvln8x"
      },
      "execution_count": null,
      "outputs": []
    },
    {
      "cell_type": "markdown",
      "source": [],
      "metadata": {
        "id": "mfqpLkCqjuCY"
      }
    },
    {
      "cell_type": "markdown",
      "source": [],
      "metadata": {
        "id": "G7vrreGigVKW"
      }
    }
  ]
}