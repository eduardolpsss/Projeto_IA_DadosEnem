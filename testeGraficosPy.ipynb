{
  "nbformat": 4,
  "nbformat_minor": 0,
  "metadata": {
    "colab": {
      "provenance": [],
      "collapsed_sections": [],
      "include_colab_link": true
    },
    "kernelspec": {
      "name": "python3",
      "display_name": "Python 3"
    },
    "language_info": {
      "name": "python"
    }
  },
  "cells": [
    {
      "cell_type": "markdown",
      "metadata": {
        "id": "view-in-github",
        "colab_type": "text"
      },
      "source": [
        "<a href=\"https://colab.research.google.com/github/kingofrats04/Projeto_IA_DadosEnem/blob/main/testeGraficosPy.ipynb\" target=\"_parent\"><img src=\"https://colab.research.google.com/assets/colab-badge.svg\" alt=\"Open In Colab\"/></a>"
      ]
    },
    {
      "cell_type": "code",
      "source": [
        "from matplotlib import pyplot as plt\n",
        "import numpy as np\n",
        "import pandas as pd\n",
        "\n",
        "# Importar dados da pandemia\n",
        "# Criar graficos para visualizar os padroes durante a pandemia\n",
        "\n",
        "# Importar planilha do Excel\n",
        "# planilha = pd.read_excel(\"/sample_data/california_housing_test.csv\", None)\n",
        "#planilha1 = pd.read_csv('/content/sample_data/MICRODADOS_ENEM_2020_DF.csv', sep=';' , encoding='latin-1')\n",
        "#planilha2 = pd.read_csv(\"/content/sample_data/MICRODADOS_ENEM_2021_DF.csv\", sep=';' , encoding='latin-1')\n",
        "\n",
        "# Printando gráfico de barras\n",
        "x = ['JAN', 'FEV', 'MAR']\n",
        "totalSales = [100, 250, 500]\n",
        "plt.style.use('seaborn')\n",
        "plt.bar(x, totalSales, width=[-0.4, 0.2, 0.7], align='edge', color=['red', 'green', 'yellow'], edgecolor='black', linewidth=\"2\") \n",
        "plt.xlabel(\"Months of Sales\")\n",
        "plt.ylabel(\"Total Sales in Lakh Rs.\")\n",
        "\n",
        "\n",
        "\n",
        "# Printar planilhas\n",
        "#print(planilha1)\n",
        "#print(planilha2)\n",
        "\n",
        "# Instanciando variáveis\n",
        "# Year = planilha['Planilha1']['Year']\n",
        "# Unemployment_Rate = planilha['Planilha1']['Unemployment_Rate']\n",
        "#TP_FAIXA_ETARIA = planilha1['MICRODADOS_ENEM_2020_DF']['TP_FAIXA_ETARIA']\n",
        "#TP_SEXO = planilha1['MICRODADOS_ENEM_2020_DF']['TP_SEXO']\n",
        "#TP_FAIXA_ETARIA2021 = planilha2['MICRODADOS_ENEM_2021_DF']['TP_FAIXA_ETARIA']\n",
        "\n",
        "# Printar coluna\n",
        "#print(planilha1.TP_FAIXA_ETARIA)\n",
        "\n",
        "# Plotando gráficos\n",
        "# Styles -> classic, seaborn, dark_background, ggplot, grayscale, fivethirtyeight\n",
        "\n",
        "# plt.plot(Year, Unemployment_Rate)\n",
        "#plt.plot(planilha1.TP_FAIXA_ETARIA, planilha2.TP_FAIXA_ETARIA)\n",
        "# plt.title('Unemployment Rate Vs Year')\n",
        "#plt.title('TP_FAIXA_ETARIA2020 vs TP_FAIXA_ETARIA2021')\n",
        "# plt.xlabel('Year')\n",
        "#plt.xlabel('TP_FAIXA_ETARIA')\n",
        "# plt.ylabel('Unemployment Rate')\n",
        "#plt.ylabel('TP_FAIXA_ETARIA')\n",
        "#plt.show()\n"
      ],
      "metadata": {
        "colab": {
          "base_uri": "https://localhost:8080/",
          "height": 379
        },
        "id": "SJWv8CThLYfj",
        "outputId": "212af888-6dfa-49fe-8d5b-e3409ef3b817"
      },
      "execution_count": null,
      "outputs": [
        {
          "output_type": "execute_result",
          "data": {
            "text/plain": [
              "Text(0, 0.5, 'Total Sales in Lakh Rs.')"
            ]
          },
          "metadata": {},
          "execution_count": 3
        },
        {
          "output_type": "display_data",
          "data": {
            "text/plain": [
              "<Figure size 576x396 with 1 Axes>"
            ],
            "image/png": "[encoded data removed]"
          },
          "metadata": {}
        }
      ]
    },
    {
      "cell_type": "markdown",
      "source": [],
      "metadata": {
        "id": "mfqpLkCqjuCY"
      }
    },
    {
      "cell_type": "markdown",
      "source": [],
      "metadata": {
        "id": "G7vrreGigVKW"
      }
    }
  ]
}