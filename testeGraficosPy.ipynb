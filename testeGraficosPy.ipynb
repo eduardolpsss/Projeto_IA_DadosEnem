{
  "cells": [
    {
      "cell_type": "markdown",
      "metadata": {
        "id": "view-in-github",
        "colab_type": "text"
      },
      "source": [
        "<a href=\"https://colab.research.google.com/github/kingofrats04/Projeto_IA_DadosEnem/blob/main/testeGraficosPy.ipynb\" target=\"_parent\"><img src=\"https://colab.research.google.com/assets/colab-badge.svg\" alt=\"Open In Colab\"/></a>"
      ]
    },
    {
      "cell_type": "code",
      "source": [
        "# Conectando ao drive do projeto\n",
        "from google.colab import drive\n",
        "drive.mount('/content/drive')"
      ],
      "metadata": {
        "id": "epF86d1oEC_d",
        "outputId": "dd0e3f9e-26f7-4cf3-8bca-1b442edbab10",
        "colab": {
          "base_uri": "https://localhost:8080/"
        }
      },
      "execution_count": null,
      "outputs": [
        {
          "output_type": "stream",
          "name": "stdout",
          "text": [
            "Drive already mounted at /content/drive; to attempt to forcibly remount, call drive.mount(\"/content/drive\", force_remount=True).\n"
          ]
        }
      ]
    },
    {
      "cell_type": "code",
      "execution_count": null,
      "metadata": {
        "colab": {
          "base_uri": "https://localhost:8080/",
          "height": 359
        },
        "id": "SJWv8CThLYfj",
        "outputId": "b6470102-0de8-48a5-e50f-68d42744eee9"
      },
      "outputs": [
        {
          "output_type": "stream",
          "name": "stdout",
          "text": [
            "Número total de participante na planilha Microdados Enem 2020: 116932\n",
            "Número total de participante na planilha Microdados Enem 2021: 67501\n"
          ]
        },
        {
          "output_type": "execute_result",
          "data": {
            "text/plain": [
              "Text(0, 0.5, 'Planilhas')"
            ]
          },
          "metadata": {},
          "execution_count": 2
        },
        {
          "output_type": "display_data",
          "data": {
            "text/plain": [
              "<Figure size 432x288 with 1 Axes>"
            ],
            "image/png": "[encoded data removed]"
          },
          "metadata": {}
        }
      ],
      "source": [
        "from matplotlib import pyplot as plt\n",
        "import numpy as np\n",
        "import pandas as pd\n",
        "\n",
        "# Importando planilha do Excel\n",
        "planilha2020 = pd.read_csv('./drive/MyDrive/trabalho_ia/data/MICRODADOS_ENEM_2020_DF.csv', sep=';' , encoding='latin-1')\n",
        "planilha2021 = pd.read_csv(\"./drive/MyDrive/trabalho_ia/data/MICRODADOS_ENEM_2021_DF.csv\", sep=';' , encoding='latin-1')\n",
        "\n",
        "# Printar coluna de participantes\n",
        "print('Numero total de participante na planilha Microdados Enem 2020:', planilha2020.NU_PARTICIPANTES.max())\n",
        "print('Numero total de participante na planilha Microdados Enem 2021:', planilha2021.NU_PARTICIPANTES.max())\n",
        "\n",
        "num1 = planilha2020.NU_PARTICIPANTES.max()\n",
        "num2 = planilha2021.NU_PARTICIPANTES.max()\n",
        "\n",
        "# Printando grafico de barras horizontal\n",
        "x = ['Planilha 2020', 'Planilha 2021']\n",
        "y = [116932, 67501]\n",
        "\n",
        "totalAlunos = num1, num2\n",
        "plt.style.use('fivethirtyeight')\n",
        "\n",
        "for index, value in enumerate(y):\n",
        "  plt.text(value, index,str(value))\n",
        "\n",
        "plt.barh(x, totalAlunos, align='center', color=['red', 'white'], edgecolor='black', linewidth=\"1\") \n",
        "plt.xlabel(\"Total alunos por ano\")\n",
        "plt.ylabel(\"Planilhas\")"
      ]
    }
  ],
  "metadata": {
    "colab": {
      "collapsed_sections": [],
      "provenance": [],
      "include_colab_link": true
    },
    "kernelspec": {
      "display_name": "Python 3",
      "name": "python3"
    },
    "language_info": {
      "name": "python"
    }
  },
  "nbformat": 4,
  "nbformat_minor": 0
}